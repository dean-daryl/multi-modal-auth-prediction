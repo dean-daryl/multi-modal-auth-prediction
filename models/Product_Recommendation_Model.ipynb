{
  "nbformat": 4,
  "nbformat_minor": 0,
  "metadata": {
    "colab": {
      "provenance": [],
      "authorship_tag": "ABX9TyPkjggNPJYcLD2qRhM6jhqb",
      "include_colab_link": true
    },
    "kernelspec": {
      "name": "python3",
      "display_name": "Python 3"
    },
    "language_info": {
      "name": "python"
    }
  },
  "cells": [
    {
      "cell_type": "markdown",
      "metadata": {
        "id": "view-in-github",
        "colab_type": "text"
      },
      "source": [
        "<a href=\"https://colab.research.google.com/github/dean-daryl/multi-modal-auth-prediction/blob/main/models/Product_Recommendation_Model.ipynb\" target=\"_parent\"><img src=\"https://colab.research.google.com/assets/colab-badge.svg\" alt=\"Open In Colab\"/></a>"
      ]
    },
    {
      "cell_type": "markdown",
      "source": [
        "This script demonstrates how to build a product recommendation model using a dataset named 'merged_data.csv'. It uses product features to calculate similarity between products."
      ],
      "metadata": {
        "id": "w-O_u8AZluLW"
      }
    },
    {
      "cell_type": "markdown",
      "source": [
        "Mount dataset from drive"
      ],
      "metadata": {
        "id": "-t3-iGAAm3Ni"
      }
    },
    {
      "cell_type": "code",
      "source": [
        "from google.colab import drive\n",
        "drive.mount('/content/drive')"
      ],
      "metadata": {
        "colab": {
          "base_uri": "https://localhost:8080/"
        },
        "id": "sk1fOhEjmkWd",
        "outputId": "ac4a3e60-1306-4de5-82f1-ae306e3d4380"
      },
      "execution_count": 2,
      "outputs": [
        {
          "output_type": "stream",
          "name": "stdout",
          "text": [
            "Mounted at /content/drive\n"
          ]
        }
      ]
    },
    {
      "cell_type": "markdown",
      "source": [
        "Import Required Libraries"
      ],
      "metadata": {
        "id": "R2Zx7TDTmL1M"
      }
    },
    {
      "cell_type": "code",
      "source": [
        "import pandas as pd\n",
        "from sklearn.metrics.pairwise import cosine_similarity\n",
        "from sklearn.feature_extraction.text import TfidfVectorizer\n",
        "from sklearn.preprocessing import MinMaxScaler"
      ],
      "metadata": {
        "id": "68oBRgRImAeS"
      },
      "execution_count": 1,
      "outputs": []
    },
    {
      "cell_type": "markdown",
      "source": [
        "Retrieve and Load Dataset"
      ],
      "metadata": {
        "id": "yqhtHcdqmWvz"
      }
    },
    {
      "cell_type": "code",
      "source": [
        "merged_data = '/content/drive/MyDrive/data/merged_data.csv'\n",
        "data = pd.read_csv(merged_data)\n",
        "\n",
        "# Quick check on the dataset\n",
        "print(\"Dataset shape:\", data.shape)\n",
        "print(\"Columns available:\", data.columns.tolist())\n",
        "print(data.head())"
      ],
      "metadata": {
        "colab": {
          "base_uri": "https://localhost:8080/"
        },
        "id": "IObx5ADhmZdW",
        "outputId": "2ddacd46-d4c7-438e-addc-26ac0a43b9ff"
      },
      "execution_count": 4,
      "outputs": [
        {
          "output_type": "stream",
          "name": "stdout",
          "text": [
            "Dataset shape: (295, 24)\n",
            "Columns available: ['customer_id_new', 'engagement_score', 'purchase_interest_score', 'customer_id_legacy', 'transaction_id', 'purchase_amount', 'purchase_date', 'customer_rating', 'product_category_Books', 'product_category_Clothing', 'product_category_Electronics', 'product_category_Groceries', 'product_category_Sports', 'product_category_Unknown', 'review_sentiment_Negative', 'review_sentiment_Neutral', 'review_sentiment_Positive', 'review_sentiment_Unknown', 'social_media_platform_Facebook', 'social_media_platform_Instagram', 'social_media_platform_LinkedIn', 'social_media_platform_TikTok', 'social_media_platform_Twitter', 'social_media_platform_Unknown']\n",
            "  customer_id_new  engagement_score  purchase_interest_score  \\\n",
            "0             100              73.0                      4.4   \n",
            "1             100              73.0                      4.4   \n",
            "2             100              81.0                      4.4   \n",
            "3             100              81.0                      4.4   \n",
            "4             101              68.0                      1.0   \n",
            "\n",
            "  customer_id_legacy  transaction_id  purchase_amount purchase_date  \\\n",
            "0                100          1113.0            172.0    2024-04-22   \n",
            "1                100          1147.0            387.0    2024-05-26   \n",
            "2                100          1113.0            172.0    2024-04-22   \n",
            "3                100          1147.0            387.0    2024-05-26   \n",
            "4                101          1017.0            271.0    2024-01-17   \n",
            "\n",
            "   customer_rating  product_category_Books  product_category_Clothing  ...  \\\n",
            "0              4.0                   False                       True  ...   \n",
            "1              4.6                    True                      False  ...   \n",
            "2              4.0                   False                       True  ...   \n",
            "3              4.6                    True                      False  ...   \n",
            "4              2.1                    True                      False  ...   \n",
            "\n",
            "   review_sentiment_Negative  review_sentiment_Neutral  \\\n",
            "0                       True                     False   \n",
            "1                       True                     False   \n",
            "2                      False                      True   \n",
            "3                      False                      True   \n",
            "4                      False                      True   \n",
            "\n",
            "   review_sentiment_Positive  review_sentiment_Unknown  \\\n",
            "0                      False                     False   \n",
            "1                      False                     False   \n",
            "2                      False                     False   \n",
            "3                      False                     False   \n",
            "4                      False                     False   \n",
            "\n",
            "   social_media_platform_Facebook  social_media_platform_Instagram  \\\n",
            "0                           False                            False   \n",
            "1                           False                            False   \n",
            "2                           False                             True   \n",
            "3                           False                             True   \n",
            "4                           False                            False   \n",
            "\n",
            "   social_media_platform_LinkedIn  social_media_platform_TikTok  \\\n",
            "0                           False                         False   \n",
            "1                           False                         False   \n",
            "2                           False                         False   \n",
            "3                           False                         False   \n",
            "4                           False                         False   \n",
            "\n",
            "   social_media_platform_Twitter  social_media_platform_Unknown  \n",
            "0                           True                          False  \n",
            "1                           True                          False  \n",
            "2                          False                          False  \n",
            "3                          False                          False  \n",
            "4                           True                          False  \n",
            "\n",
            "[5 rows x 24 columns]\n"
          ]
        }
      ]
    },
    {
      "cell_type": "markdown",
      "source": [
        "Data Preprocessing"
      ],
      "metadata": {
        "id": "GW3OEsKCo5sQ"
      }
    },
    {
      "cell_type": "code",
      "source": [
        "# 1. Handle missing values\n",
        "# We will fill missing categorical values with 'Unknown'\n",
        "# and numerical values with the median.\n",
        "product_name = data['product_category_Books']\n",
        "category = data['product_category_Clothing']\n",
        "for col in data.columns:\n",
        "    if data[col].dtype == 'object':  # categorical\n",
        "        data[col] = data[col].fillna('Unknown')\n",
        "    else:  # numerical\n",
        "        data[col] = data[col].fillna(data[col].median())\n",
        "\n",
        "# 2. Normalize numerical columns (e.g., price, rating, etc.)\n",
        "numerical_cols = data.select_dtypes(include=['int64', 'float64']).columns\n",
        "scaler = MinMaxScaler()\n",
        "data[numerical_cols] = scaler.fit_transform(data[numerical_cols])\n",
        "\n",
        "# 3. Combine text-based features for TF-IDF\n",
        "# If the dataset has product descriptions, categories, etc., combine them.\n",
        "# Example: combine 'product_category_Books' and 'product_category_Clothing' into a single string.\n",
        "text_features = data[['product_category_Books', 'product_category_Clothing']].astype(str)\n",
        "data['combined_text'] = text_features.apply(lambda x: ' '.join(x), axis=1)"
      ],
      "metadata": {
        "id": "VsxCdbSDo9Hn"
      },
      "execution_count": 20,
      "outputs": []
    },
    {
      "cell_type": "markdown",
      "source": [
        "Build Product Similarity Matrix"
      ],
      "metadata": {
        "id": "BRpyyHpDrEat"
      }
    },
    {
      "cell_type": "code",
      "source": [
        "# Convert text features into a numerical representation (TF-IDF)\n",
        "tfidf = TfidfVectorizer(stop_words='english')\n",
        "tfidf_matrix = tfidf.fit_transform(data['combined_text'])\n",
        "\n",
        "# Compute cosine similarity between products\n",
        "cosine_sim = cosine_similarity(tfidf_matrix, tfidf_matrix)"
      ],
      "metadata": {
        "id": "JR0A-3tErDah"
      },
      "execution_count": 21,
      "outputs": []
    },
    {
      "cell_type": "markdown",
      "source": [
        "Recommendation Function"
      ],
      "metadata": {
        "id": "AzYUB1ZmrdJW"
      }
    },
    {
      "cell_type": "code",
      "source": [
        "def recommend_products(product_name, top_n=5):\n",
        "    \"\"\"\n",
        "    Recommend top N products similar to the given product_name.\n",
        "\n",
        "    Args:\n",
        "        product_name (str): Name of the product to find similar items for.\n",
        "        top_n (int): Number of recommended products to return.\n",
        "\n",
        "    Returns:\n",
        "        recommendations (DataFrame): Top N similar products with similarity scores.\n",
        "    \"\"\"\n",
        "    # Check if the product exists\n",
        "    if product_name not in data['product_name'].values:\n",
        "        print(f\"Product '{product_name}' not found in the dataset.\")\n",
        "        return pd.DataFrame()\n",
        "\n",
        "    # Get index of the product\n",
        "    idx = data[data['product_name'] == product_name].index[0]\n",
        "\n",
        "    # Get similarity scores for this product\n",
        "    sim_scores = list(enumerate(cosine_sim[idx]))\n",
        "\n",
        "    # Sort products by similarity (highest first), excluding the product itself\n",
        "    sim_scores = sorted(sim_scores, key=lambda x: x[1], reverse=True)[1: top_n + 1]\n",
        "\n",
        "    # Get product indices\n",
        "    product_indices = [i[0] for i in sim_scores]\n",
        "    scores = [i[1] for i in sim_scores]\n",
        "\n",
        "    # Return top N similar products\n",
        "    recommendations = data.iloc[product_indices][['product_name', 'category']].copy()\n",
        "    recommendations['similarity_score'] = scores\n",
        "    return recommendations"
      ],
      "metadata": {
        "id": "I02zkVgltHaG"
      },
      "execution_count": 22,
      "outputs": []
    },
    {
      "cell_type": "markdown",
      "source": [
        "Test the Model"
      ],
      "metadata": {
        "id": "HczfBTsgtTzJ"
      }
    },
    {
      "cell_type": "code",
      "source": [
        "# For instance; Recommend similar products to a given product\n",
        "def recommend_products (product_name, top_n=5):\n",
        " sample = data['product_category_Books'].iloc[0]\n",
        "print(f\"\\nRecommendations for product: {sample}\")\n",
        "print('recommend_products'(sample, top_n=5))"
      ],
      "metadata": {
        "colab": {
          "base_uri": "https://localhost:8080/",
          "height": 228
        },
        "id": "IQ4QTCqjtVwP",
        "outputId": "ca7f99d2-410d-4c62-92cc-8733365e3639"
      },
      "execution_count": 31,
      "outputs": [
        {
          "output_type": "stream",
          "name": "stderr",
          "text": [
            "<>:5: SyntaxWarning: 'str' object is not callable; perhaps you missed a comma?\n",
            "<>:5: SyntaxWarning: 'str' object is not callable; perhaps you missed a comma?\n"
          ]
        },
        {
          "output_type": "error",
          "ename": "NameError",
          "evalue": "name 'sample' is not defined",
          "traceback": [
            "\u001b[0;31m---------------------------------------------------------------------------\u001b[0m",
            "\u001b[0;31mNameError\u001b[0m                                 Traceback (most recent call last)",
            "\u001b[0;32m/tmp/ipython-input-31-301892394.py\u001b[0m in \u001b[0;36m<cell line: 0>\u001b[0;34m()\u001b[0m\n\u001b[1;32m      2\u001b[0m \u001b[0;32mdef\u001b[0m \u001b[0mrecommend_products\u001b[0m \u001b[0;34m(\u001b[0m\u001b[0mproduct_name\u001b[0m\u001b[0;34m,\u001b[0m \u001b[0mtop_n\u001b[0m\u001b[0;34m=\u001b[0m\u001b[0;36m5\u001b[0m\u001b[0;34m)\u001b[0m\u001b[0;34m:\u001b[0m\u001b[0;34m\u001b[0m\u001b[0;34m\u001b[0m\u001b[0m\n\u001b[1;32m      3\u001b[0m  \u001b[0msample\u001b[0m \u001b[0;34m=\u001b[0m \u001b[0mdata\u001b[0m\u001b[0;34m[\u001b[0m\u001b[0;34m'product_category_Books'\u001b[0m\u001b[0;34m]\u001b[0m\u001b[0;34m.\u001b[0m\u001b[0miloc\u001b[0m\u001b[0;34m[\u001b[0m\u001b[0;36m0\u001b[0m\u001b[0;34m]\u001b[0m\u001b[0;34m\u001b[0m\u001b[0;34m\u001b[0m\u001b[0m\n\u001b[0;32m----> 4\u001b[0;31m \u001b[0mprint\u001b[0m\u001b[0;34m(\u001b[0m\u001b[0;34mf\"\\nRecommendations for product: {sample}\"\u001b[0m\u001b[0;34m)\u001b[0m\u001b[0;34m\u001b[0m\u001b[0;34m\u001b[0m\u001b[0m\n\u001b[0m\u001b[1;32m      5\u001b[0m \u001b[0mprint\u001b[0m\u001b[0;34m(\u001b[0m\u001b[0;34m'recommend_products'\u001b[0m\u001b[0;34m(\u001b[0m\u001b[0msample\u001b[0m\u001b[0;34m,\u001b[0m \u001b[0mtop_n\u001b[0m\u001b[0;34m=\u001b[0m\u001b[0;36m5\u001b[0m\u001b[0;34m)\u001b[0m\u001b[0;34m)\u001b[0m\u001b[0;34m\u001b[0m\u001b[0;34m\u001b[0m\u001b[0m\n",
            "\u001b[0;31mNameError\u001b[0m: name 'sample' is not defined"
          ]
        }
      ]
    }
  ]
}